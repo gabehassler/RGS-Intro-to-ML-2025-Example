{
  "cells": [
    {
      "cell_type": "raw",
      "metadata": {},
      "source": [
        "---\n",
        "title: \"Homework 2\"\n",
        "format:\n",
        "    html:\n",
        "        embed-resources: true\n",
        "---"
      ],
      "id": "8b5be80f"
    },
    {
      "cell_type": "markdown",
      "metadata": {},
      "source": [
        "__Due Date:__ 2022-10-16 at 8:30 AM PT"
      ],
      "id": "5f3ca95e"
    },
    {
      "cell_type": "markdown",
      "metadata": {},
      "source": [
        "---\n",
        "\n",
        "\n",
        "__Name:__ \\<your name here\\>\n",
        "\n",
        "\n",
        "\n",
        "For this assignment, you will practice downloadings, cleaning, and analyzing data from the [National Risk Index (NRI)](https://hazards.fema.gov/nri/) and the [CDC Social Vulnerability Index (SVI)](https://www.atsdr.cdc.gov/placeandhealth/svi/index.html).\n",
        "\n",
        "## Preparation\n",
        "\n",
        "1. Create a 'data' folder in the root directory of your repository.\n",
        "1. Inside the 'data' folder, create a 'raw' folder.\n",
        "1. Add and commit a '.gitignore' file to the root directory of this repository that excludes all contents of the 'data' folder.\n",
        "1. Download the county-level NRI and SVI data for the entire United States. Place the data in the 'data/raw' folder.\n",
        "    - NRI data: Download the \"All Counties - County-level detail (Table)\" CSV file from [here](https://hazards.fema.gov/nri/data-resources#csvDownload).\n",
        "    - SVI data: Download the 2022 county-level dataset (CSV format) from [here](https://www.atsdr.cdc.gov/place-health/php/svi/svi-data-documentation-download.html).\n",
        "1. In the repository README, provide a brief (1-2 sentence) description of each file in the 'data' folder and a link to the original source of the data.\n",
        "\n",
        "## Task 1 - NRI Data Cleaning\n",
        "\n",
        "__1. Import the NRI data. Ensure that the [FIPS code](https://en.wikipedia.org/wiki/Federal_Information_Processing_Standard_state_code) variable ('STCOFIPS') is correctly identified as a string / character variable. Otherwise, the leading zeros will be removed.__"
      ],
      "id": "6f1f7fb7"
    },
    {
      "cell_type": "code",
      "metadata": {},
      "source": [
        "import pandas as pd\n",
        "\n",
        "nri_path = \"data/raw/NRI_Table_Counties.csv\"\n",
        "svi_path = \"data/raw/SVI_2022_US_county.csv\"\n",
        "\n",
        "nri = pd.read_csv(nri_path, dtype={\"STCOFIPS\": str})\n",
        "svi = pd.read_csv(svi_path, dtype={\"FIPS\": str})"
      ],
      "id": "e1c8ccba",
      "execution_count": null,
      "outputs": []
    },
    {
      "cell_type": "markdown",
      "metadata": {},
      "source": [
        "__2. Subset the NRI data to include only the 5-digit state/county FIPS code and all colums ending with '\\_AFREQ' and '\\_RISKR'. Each of these columns represents a different hazard type.__"
      ],
      "id": "4273de5f"
    },
    {
      "cell_type": "code",
      "metadata": {},
      "source": [
        "afreq_cols = [col for col in nri.columns if col.endswith('_AFREQ')]\n",
        "riskr_cols = [col for col in nri.columns if col.endswith('_RISKR')]\n",
        "\n",
        "nri_subset = nri[['STCOFIPS'] + afreq_cols + riskr_cols]\n",
        "nri_subset.head()"
      ],
      "id": "f5b92279",
      "execution_count": null,
      "outputs": []
    },
    {
      "cell_type": "markdown",
      "metadata": {},
      "source": [
        "__3. Create a table / dataframe that, for each hazard type, shows the number of missing values in the '\\_AFREQ' and '\\_RISKR' columns.__"
      ],
      "id": "7413042e"
    },
    {
      "cell_type": "code",
      "metadata": {},
      "source": [
        "missing_values = nri_subset.isnull().sum()\n",
        "missing_values"
      ],
      "id": "fba68e67",
      "execution_count": null,
      "outputs": []
    },
    {
      "cell_type": "markdown",
      "metadata": {},
      "source": [
        "__4. Create a new column in the original data table indicating whether or not 'AVLN_AFREQ' is missing or observed. Show the cross-tabulation of the 'AVLN_AFREQ' missingness and 'AVLN_RISKR' columns (including missing values). What do you observe?__"
      ],
      "id": "114f8f47"
    },
    {
      "cell_type": "code",
      "metadata": {},
      "source": [
        "nri_subset['AVLN_AFREQ_missing'] = nri_subset['AVLN_AFREQ'].isnull()\n",
        "crosstab = pd.crosstab(nri_subset['AVLN_AFREQ_missing'], nri_subset['AVLN_RISKR'], dropna=False)\n",
        "crosstab"
      ],
      "id": "d26e9d50",
      "execution_count": null,
      "outputs": []
    },
    {
      "cell_type": "markdown",
      "metadata": {},
      "source": [
        "__5. Assuming that a risk that is \"not applicable\" to a county has an annualized frequency of 0, impute the relevant missing values in the '\\_AFREQ' columns with 0.__"
      ],
      "id": "aa7e7f0b"
    },
    {
      "cell_type": "code",
      "metadata": {},
      "source": [
        "hazards = [col.split('_')[0] for col in afreq_cols]\n",
        "\n",
        "for hazard in hazards:\n",
        "    afreq_col = f\"{hazard}_AFREQ\"\n",
        "    riskr_col = f\"{hazard}_RISKR\"\n",
        "\n",
        "    na_rows = nri_subset[riskr_col] == 'Not Applicable'\n",
        "\n",
        "    nri_subset.loc[na_rows, afreq_col] = nri_subset.loc[na_rows, afreq_col].fillna(0)"
      ],
      "id": "d944a56c",
      "execution_count": null,
      "outputs": []
    },
    {
      "cell_type": "markdown",
      "metadata": {},
      "source": [
        "## Task 2 - SVI Data Cleaning\n",
        "\n",
        "__1. Import the SVI data. Ensure that the FIPS code is correctly identified as a string / character variable. Otherwise, the leading zeros will be removed.__\n",
        "__1. Subset the SVI data to include only the following columns:__\n",
        "`ST, STATE, ST_ABBR, STCNTY, COUNTY, FIPS, LOCATION, AREA_SQMI, E_TOTPOP, EP_POV150, EP_UNEMP, EP_HBURD, EP_NOHSDP, EP_UNINSUR, EP_AGE65, EP_AGE17, EP_DISABL, EP_SNGPNT, EP_LIMENG, EP_MINRTY, EP_MUNIT, EP_MOBILE, EP_CROWD, EP_NOVEH, EP_GROUPQ, EP_NOINT, EP_AFAM, EP_HISP, EP_ASIAN, EP_AIAN, EP_NHPI, EP_TWOMORE, EP_OTHERRACE`\n"
      ],
      "id": "b031722a"
    },
    {
      "cell_type": "code",
      "metadata": {},
      "source": [
        "svi_columns = [\n",
        "    'ST', 'STATE', 'ST_ABBR', 'STCNTY', 'COUNTY', 'FIPS', 'LOCATION', 'AREA_SQMI',\n",
        "    'E_TOTPOP', 'EP_POV150', 'EP_UNEMP', 'EP_HBURD', 'EP_NOHSDP', 'EP_UNINSUR',\n",
        "    'EP_AGE65', 'EP_AGE17', 'EP_DISABL', 'EP_SNGPNT', 'EP_LIMENG', 'EP_MINRTY',\n",
        "    'EP_MUNIT', 'EP_MOBILE', 'EP_CROWD', 'EP_NOVEH', 'EP_GROUPQ', 'EP_NOINT',\n",
        "    'EP_AFAM', 'EP_HISP', 'EP_ASIAN', 'EP_AIAN', 'EP_NHPI', 'EP_TWOMORE', 'EP_OTHERRACE'\n",
        "]\n",
        "\n",
        "svi_subset = svi[svi_columns]"
      ],
      "id": "3905a372",
      "execution_count": null,
      "outputs": []
    },
    {
      "cell_type": "markdown",
      "metadata": {},
      "source": [
        "__2. Create a table / dataframe that shows the number of missing values in each column.\n",
        "(Hint: if you wrote a function for Task 1, you can reuse it here.)__"
      ],
      "id": "742fb091"
    },
    {
      "cell_type": "code",
      "metadata": {},
      "source": [
        "svi_missing_values = svi_subset.isnull().sum()\n",
        "svi_missing_values"
      ],
      "id": "23d6887c",
      "execution_count": null,
      "outputs": []
    },
    {
      "cell_type": "markdown",
      "metadata": {},
      "source": [
        "## Task 3 - Data Merging\n",
        "__1. Identify any FIPS codes that are present in the NRI data but not in the SVI data and vice versa. Describe any discrepancies and possible causes? What to these discrepancies, if any, mean for interpreting results based on the merged dataset moving forward?__"
      ],
      "id": "6cd21937"
    },
    {
      "cell_type": "code",
      "metadata": {},
      "source": [
        "nri_fips = set(nri_subset['STCOFIPS'])\n",
        "svi_fips = set(svi_subset['FIPS'])\n",
        "\n",
        "nri_not_in_svi = nri_fips - svi_fips\n",
        "svi_not_in_nri = svi_fips - nri_fips\n",
        "\n",
        "print(f\"FIPS in NRI but not in SVI: {nri_not_in_svi}\")\n",
        "print(\"\\n\")\n",
        "print(f\"FIPS in SVI but not in NRI: {svi_not_in_nri}\")"
      ],
      "id": "1e86854b",
      "execution_count": null,
      "outputs": []
    },
    {
      "cell_type": "markdown",
      "metadata": {},
      "source": [
        "__2. Merge the NRI and SVI data on the FIPS code. Use an outer join to keep all counties in the final dataset.__"
      ],
      "id": "e7eb5d4b"
    },
    {
      "cell_type": "code",
      "metadata": {},
      "source": [
        "merged_data = pd.merge(nri_subset, svi_subset, left_on='STCOFIPS', right_on='FIPS', how='outer')\n",
        "merged_data"
      ],
      "id": "8e0b5e79",
      "execution_count": null,
      "outputs": []
    },
    {
      "cell_type": "markdown",
      "metadata": {},
      "source": [
        "__3. Create a table / dataframe that shows the number of missing values in each column of the merged dataset.__"
      ],
      "id": "92ee1eae"
    },
    {
      "cell_type": "code",
      "metadata": {},
      "source": [
        "merged_missing_values = merged_data.isnull().sum()\n",
        "merged_missing_values"
      ],
      "id": "abcbcfa2",
      "execution_count": null,
      "outputs": []
    },
    {
      "cell_type": "markdown",
      "metadata": {},
      "source": [
        "## Task 4 - Data Analysis\n",
        "\n",
        "__1. For each numerical variable in the merged dataset, plot a histogram showing the distribution of values.\n",
        "(Hint: write a function to make the histogram for a single variable, then use a loop or apply function to make the histograms for all numerical variables.)__"
      ],
      "id": "61fb0631"
    },
    {
      "cell_type": "code",
      "metadata": {},
      "source": [
        "import matplotlib.pyplot as plt\n",
        "\n",
        "def plot_histogram(column):\n",
        "    plt.figure(figsize=(8, 6))\n",
        "    plt.hist(merged_data[column].dropna(), bins=30, edgecolor='k', alpha=0.7)\n",
        "    plt.title(f'Distribution of {column}')\n",
        "    plt.xlabel(column)\n",
        "    plt.ylabel('Frequency')\n",
        "    plt.show()\n",
        "\n",
        "numerical_cols = merged_data.select_dtypes(include=['number']).columns\n",
        "for col in numerical_cols:\n",
        "    plot_histogram(col)"
      ],
      "id": "66615055",
      "execution_count": null,
      "outputs": []
    },
    {
      "cell_type": "code",
      "metadata": {},
      "source": [
        "merged_data.to_csv(\"data/processed/nri_svi_merged.csv\")"
      ],
      "id": "7ccd0645",
      "execution_count": null,
      "outputs": []
    }
  ],
  "metadata": {
    "kernelspec": {
      "name": "python3",
      "language": "python",
      "display_name": "Python 3 (ipykernel)"
    }
  },
  "nbformat": 4,
  "nbformat_minor": 5
}